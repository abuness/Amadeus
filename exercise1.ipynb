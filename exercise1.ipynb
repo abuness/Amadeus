{
 "metadata": {
  "name": "exercise1"
 }, 
 "nbformat": 2, 
 "worksheets": [
  {
   "cells": [
    {
     "cell_type": "code", 
     "collapsed": false, 
     "input": [
      "import os", 
      "from collections import Counter", 
      "", 
      "dataDir = \"/home/andreas/LinkToWindowsDesktop/Data/\"", 
      "fileNames = os.listdir(dataDir)", 
      "", 
      "for fN in fileNames:", 
      "    fieldsPerLine = list()", 
      "    with open(os.path.join(dataDir, fN)) as f:", 
      "        for line in f:", 
      "            fields = line.count(\"^\")", 
      "            fieldsPerLine.append(fields)", 
      "        print \"File:\", fN", 
      "        print \"#Lines:\", len(fieldsPerLine)", 
      "        cnter = Counter(fieldsPerLine)", 
      "        print \"(#Fields, #Lines):\", sorted(cnter.items())", 
      "        stdFields = cnter.most_common()[0][0]", 
      "        outlierRows = list()", 
      "        for (row, fields) in enumerate(fieldsPerLine):", 
      "            if fields != stdFields:", 
      "               outlierRows.append(row)", 
      "        print \"Outlier Row(s):\", outlierRows"
     ], 
     "language": "python", 
     "outputs": [
      {
       "output_type": "stream", 
       "stream": "stdout", 
       "text": [
        "File: bookings.csv", 
        "#Lines: 10000011", 
        "(#Fields, #Lines):"
       ]
      }, 
      {
       "output_type": "stream", 
       "stream": "stdout", 
       "text": [
        " [(33, 1), (37, 10000010)]", 
        "Outlier Row(s):"
       ]
      }, 
      {
       "output_type": "stream", 
       "stream": "stdout", 
       "text": [
        " [5000008]", 
        "File:"
       ]
      }, 
      {
       "output_type": "stream", 
       "stream": "stdout", 
       "text": [
        " searches.csv", 
        "#Lines: 20390199", 
        "(#Fields, #Lines):"
       ]
      }, 
      {
       "output_type": "stream", 
       "stream": "stdout", 
       "text": [
        " [(0, 33), (6, 1), (41, 33), (42, 33), (44, 20390099)]", 
        "Outlier Row(s):"
       ]
      }, 
      {
       "output_type": "stream", 
       "stream": "stdout", 
       "text": [
        " [1436001, 1436002, 1436010, 1795011, 1795012, 1795020, 1795021, 1795022, 1795030, 3231031, 3231032, 3231040, 3590041, 3590042, 3590050, 3590051, 3590052, 3590060, 5026061, 5026062, 5026070, 5385071, 5385072, 5385080, 5385081, 5385082, 5385090, 6821091, 6821092, 6821100, 7180101, 7180102, 7180110, 7180111, 7180112, 7180120, 8616121, 8616122, 8616130, 8975131, 8975132, 8975140, 8975141, 8975142, 8975150, 10411151, 10411152, 10411160, 10770161, 10770162, 10770170, 10770171, 10770172, 10770180, 12206181, 12206182, 12206190, 12565191, 12565192, 12565200, 12565201, 12565202, 12565210, 14001211, 14001212, 14001220, 14360221, 14360222, 14360230, 14360231, 14360232, 14360240, 15796241, 15796242, 15796250, 16155251, 16155252, 16155260, 16155261, 16155262, 16155270, 17591271, 17591272, 17591280, 17950281, 17950282, 17950290, 17950291, 17950292, 17950300, 19386301, 19386302, 19386310, 19745311, 19745312, 19745320, 19745321, 19745322, 19745330, 20390198]"
       ]
      }
     ], 
     "prompt_number": 4
    }
   ]
  }
 ]
}