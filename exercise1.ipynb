{
 "metadata": {
  "name": "exercise1"
 }, 
 "nbformat": 2, 
 "worksheets": [
  {
   "cells": [
    {
     "cell_type": "code", 
     "collapsed": false, 
     "input": [
      "import os", 
      "from collections import Counter", 
      "", 
      "dataDir = \"/home/andreas/LinkToWindowsDesktop/Data/\"", 
      "fileNames = os.listdir(dataDir)", 
      "", 
      "for fN in fileNames:", 
      "    fieldsPerLine = list()", 
      "    with open(os.path.join(dataDir, fN)) as f:", 
      "        for line in f:", 
      "            fields = line.count(\"^\")", 
      "            fieldsPerLine.append(fields)", 
      "        print \"File:\", fN", 
      "        print \"#Lines:\", len(fieldsPerLine)", 
      "        print \"(#Fields, #Lines):\", sorted(Counter(fieldsPerLine).items())"
     ], 
     "language": "python", 
     "outputs": [
      {
       "output_type": "stream", 
       "stream": "stdout", 
       "text": [
        "File: bookings.csv", 
        "#Lines: 10000011", 
        "(#Fields, #Lines): "
       ]
      }, 
      {
       "output_type": "stream", 
       "stream": "stdout", 
       "text": [
        "[(33, 1), (37, 10000010)]", 
        "File:"
       ]
      }, 
      {
       "output_type": "stream", 
       "stream": "stdout", 
       "text": [
        " searches.csv", 
        "#Lines: 20390199", 
        "(#Fields, #Lines): "
       ]
      }, 
      {
       "output_type": "stream", 
       "stream": "stdout", 
       "text": [
        "[(0, 33), (6, 1), (41, 33), (42, 33), (44, 20390099)]"
       ]
      }
     ], 
     "prompt_number": 2
    }
   ]
  }
 ]
}