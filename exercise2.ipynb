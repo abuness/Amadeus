{
 "metadata": {
  "name": "exercise2"
 }, 
 "nbformat": 2, 
 "worksheets": [
  {
   "cells": [
    {
     "cell_type": "code", 
     "collapsed": false, 
     "input": [
      "import os", 
      "import pandas as pd", 
      "from GeoBases import GeoBase", 
      "", 
      "geo_o = GeoBase(data='ori_por', verbose=False)", 
      "", 
      "dataDir = (\"/home/andreas/LinkToWindowsDesktop/Data/\") ", 
      "fileName = \"bookings.csv\"", 
      "", 
      "skiprows= [5000008] ## compare with exercise1", 
      "", 
      "df = pd.io.parsers.read_csv(os.path.join(dataDir,fileName), delimiter=\"^\",", 
      "                            index_col=False, skipinitialspace=True,", 
      "                            usecols= (\"arr_port\", \"pax\"), skiprows=skiprows)", 
      "", 
      "df[\"arr_port\"] = df[\"arr_port\"].str.strip()", 
      "groupedByPort = df.groupby([\"arr_port\"])", 
      "portSum = groupedByPort.sum()", 
      "portSum = portSum.sort(\"pax\",ascending=False,na_position=\"last\")", 
      "codes =  portSum.index.tolist()", 
      "for (N,code) in enumerate(codes[0:10]):", 
      "    print str(N+1)+\".\",geo_o.get(code,\"name\"),\"(\"+str(portSum.iloc[N,0])+\")\"", 
      "    ", 
      "# store result (be prepared for bonus excercise)", 
      "names = map(lambda x: geo_o.get(x,\"name\"),codes)", 
      "portSum[(\"Name\")] = names", 
      "portSum.to_hdf(\"storeResult.h5\",\"portSum\",mode=\"w\",format=\"table\", complib=\"bzip2\")"
     ], 
     "language": "python", 
     "outputs": [
      {
       "output_type": "stream", 
       "stream": "stdout", 
       "text": [
        "1. London Heathrow Airport (88809)", 
        "2. Orlando International Airport (70930)", 
        "3. Los Angeles International Airport (70530)", 
        "4. Mc Carran International Airport (69630)", 
        "5. John F Kennedy International Airport (66270)", 
        "6. Paris - Charles-de-Gaulle (64490)", 
        "7. Suvarnabhumi (59460)", 
        "8. Miami International Airport (58150)", 
        "9. San Francisco International Airport (58000)", 
        "10. Dubai International Airport (55590)"
       ]
      }
     ], 
     "prompt_number": 2
    }
   ]
  }
 ]
}