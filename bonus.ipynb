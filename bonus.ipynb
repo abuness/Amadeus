{
 "metadata": {
  "name": "bonus"
 }, 
 "nbformat": 2, 
 "worksheets": [
  {
   "cells": [
    {
     "cell_type": "code", 
     "collapsed": true, 
     "input": [
      "import os", 
      "import numpy as np", 
      "import pandas as pd", 
      "from GeoBases import GeoBase", 
      "geo_o = GeoBase(data='ori_por', verbose=False)"
     ], 
     "language": "python", 
     "outputs": [], 
     "prompt_number": 1
    }, 
    {
     "cell_type": "code", 
     "collapsed": true, 
     "input": [
      "dataDir = (\"/home/andreas/LinkToWindowsDesktop/Data/\") ", 
      "fileName = \"bookings.csv\"", 
      "skiprows= [5000008] "
     ], 
     "language": "python", 
     "outputs": [], 
     "prompt_number": 2
    }, 
    {
     "cell_type": "code", 
     "collapsed": true, 
     "input": [
      "# read booking information", 
      "dfBook = pd.io.parsers.read_csv(os.path.join(dataDir,fileName), delimiter=\"^\", ", 
      "                                index_col=False, skipinitialspace=True,", 
      "                                usecols= (\"dep_port\", \"arr_port\", \"pax\",", 
      "                                          \"act_date           \", ", 
      "                                          \"rloc          \"),", 
      "                                skiprows=skiprows)"
     ], 
     "language": "python", 
     "outputs": [], 
     "prompt_number": 3
    }, 
    {
     "cell_type": "code", 
     "collapsed": true, 
     "input": [
      "# use headers as in search data", 
      "dfBook.rename(columns={\"arr_port\":\"Destination\"}, inplace=True)", 
      "dfBook.rename(columns={\"dep_port\":\"Seg1Departure\"}, inplace=True)", 
      "dfBook.rename(columns={\"act_date           \":\"Date\"}, inplace=True)", 
      "dfBook.rename(columns={\"rloc          \":\"rloc\"}, inplace=True)"
     ], 
     "language": "python", 
     "outputs": [], 
     "prompt_number": 4
    }, 
    {
     "cell_type": "code", 
     "collapsed": true, 
     "input": [
      "# remove bookings with no remaining passenger(s) ", 
      "bookGrouped = dfBook.groupby(['rloc'],as_index=False)", 
      "sumGroup = bookGrouped.sum()", 
      "rlocs = sumGroup.rloc[sumGroup.pax >= 1]", 
      "dfBook = dfBook[dfBook.rloc.isin(rlocs)]", 
      "dfBook = dfBook[dfBook['pax'] > 0 ]", 
      "dfBook = dfBook.drop([\"pax\",\"rloc\"],1)", 
      "# remove duplicated rows", 
      "dfBook = dfBook.drop_duplicates()"
     ], 
     "language": "python", 
     "outputs": [], 
     "prompt_number": 5
    }, 
    {
     "cell_type": "code", 
     "collapsed": true, 
     "input": [
      "# standardization", 
      "dfBook[\"Destination\"] = map(lambda x: geo_o.get(x.strip(),\"city_code\"), dfBook.Destination)", 
      "dfBook[\"Seg1Departure\"] = map(lambda x: geo_o.get(x.strip(),\"city_code\"), dfBook.Seg1Departure)", 
      "# convert date (enforce same format)", 
      "dfBook[(\"Date\")] = pd.DatetimeIndex(np.datetime64(dfBook[(\"Date\")]))", 
      "dfBook[\"Date\"] = map(lambda x: x.to_datetime().strftime('%Y-%m-%d'),dfBook[(\"Date\")])", 
      "", 
      "# add result booking column", 
      "dfBook['Booking'] = list([1]*len(dfBook.index))"
     ], 
     "language": "python", 
     "outputs": [], 
     "prompt_number": 6
    }, 
    {
     "cell_type": "code", 
     "collapsed": true, 
     "input": [
      "# read searches information", 
      "dataDir = (\"/home/andreas/LinkToWindowsDesktop/Data/\") ", 
      "fileName = \"searches.csv\"", 
      "", 
      "# Hardware limitations at my side thus ...", 
      "# Simplifying reduction: only one chunk of data is used instead of iterating through", 
      "# Suggested Solutions:", 
      "#  One may use an offset and the number of lines to be read", 
      "#  to define the data blocks within each loop operation ", 
      "#  This can be done via skiprows and nrows for an uncorrupted file.", 
      "#  Also witin each loop: run database like merge operation and ", 
      "#  append output to the result file. ", 
      "# Alternative approaches, e.g. generate file stores and then run merge on chunks", 
      "#  compare with", 
      "#  stackoverflow.com/questions/20428355/appending-column-to-frame-of-hdf-file-in-pandas/20428786#20428786", 
      "#  and", 
      "#  stackoverflow.com/questions/14614512/merging-two-tables-with-millions-of-rows-in-python/14617925#1461792", 
      "", 
      "nrows = 200000 # Note: using reduced data set !", 
      "dfSearch = pd.io.parsers.read_csv(os.path.join(dataDir,fileName),delimiter=\"^\", ", 
      "                                  index_col=False, skipinitialspace=True,", 
      "                                  nrows=nrows)"
     ], 
     "language": "python", 
     "outputs": [], 
     "prompt_number": 7
    }, 
    {
     "cell_type": "code", 
     "collapsed": true, 
     "input": [
      "# standardization", 
      "# potential sideeffect: modifications in table, see write below", 
      "dfSearch[\"Destination\"] = map(lambda x: x.strip(), dfSearch.Destination)", 
      "dfSearch[\"Seg1Departure\"] = map(lambda x: x.strip(), dfSearch.Seg1Departure)", 
      "# convert date (enforce same format)", 
      "dfSearch[(\"Date\")] = pd.DatetimeIndex(np.datetime64(dfSearch[(\"Date\")]))", 
      "dfSearch[\"Date\"] = map(lambda x: x.to_datetime().strftime('%Y-%m-%d'),dfSearch[(\"Date\")])"
     ], 
     "language": "python", 
     "outputs": [], 
     "prompt_number": 8
    }, 
    {
     "cell_type": "code", 
     "collapsed": false, 
     "input": [
      "df = pd.merge(dfSearch, dfBook,on=[\"Destination\", \"Seg1Departure\", \"Date\"], ", 
      "              how=\"left\")", 
      "", 
      "# replace NaN for missing booking information with 0", 
      "df[\"Booking\"][np.isnan(df[\"Booking\"])] = 0", 
      "", 
      "print \"estimated look to book ratio: \", len(df)/df[\"Booking\"].sum()", 
      "", 
      "# write result (Note: original data in table may have been modified, see above)", 
      "df.to_csv(\"searchesWithBooking.cvs\", index=False, sep=\"^\")"
     ], 
     "language": "python", 
     "outputs": [
      {
       "output_type": "stream", 
       "stream": "stdout", 
       "text": [
        "estimated look to book ratio:  20.4706362986"
       ]
      }
     ], 
     "prompt_number": 9
    }
   ]
  }
 ]
}